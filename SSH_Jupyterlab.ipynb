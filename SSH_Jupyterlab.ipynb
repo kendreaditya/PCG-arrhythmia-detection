{
  "nbformat": 4,
  "nbformat_minor": 0,
  "metadata": {
    "colab": {
      "name": "SSH-Jupyterlab",
      "provenance": [],
      "collapsed_sections": []
    },
    "kernelspec": {
      "name": "python3",
      "display_name": "Python 3"
    },
    "accelerator": "GPU"
  },
  "cells": [
    {
      "cell_type": "code",
      "metadata": {
        "id": "cvOngRVPi9ge"
      },
      "source": [
        "from google.colab import drive, output\n",
        "\n",
        "# Clone Git Repo\n",
        "!rm -rf \"/content/PCG-arrhythmia-detection\"\n",
        "!git clone https://github.com/kendreaditya/PCG-arrhythmia-detection.git --quiet\n",
        "\n",
        "# Install Dependencies\n",
        "!cd /content/EEG-connectome-analysis && pip install -r requirements.txt\n",
        "output.clear()\n",
        "\n",
        "# Mount Google Drive\n",
        "from google.colab import drive\n",
        "drive.mount('/content/drive')\n",
        "\n",
        "# SSH Client\n",
        "!pip install colab_ssh --upgrade -q\n",
        "from colab_ssh import launch_ssh\n",
        "from colab_ssh.get_tunnel_config import get_tunnel_config\n",
        "ngrokToken = None\n",
        "if ngrokToken is None:  \n",
        "  print(\"Got to: https://dashboard.ngrok.com/get-started/setup\")\n",
        "  ngrokToken = input(\"Enter authtoke from ngrok: \")\n",
        "launch_ssh(ngrokToken, \"password\")\n",
        "info = get_tunnel_config()\n",
        "print(f\"ssh -p {info['port']} -N -f -L localhost:1111:0.0.0.0:2275 root@{info['domain']}\")\n",
        "\n",
        "# Jupyter Lab\n",
        "!pip3 install jupyterlab -q\n",
        "!jupyter lab --no-browser --port=2275 --ip=0.0.0.0 --allow-root"
      ],
      "execution_count": null,
      "outputs": []
    },
    {
      "cell_type": "code",
      "metadata": {
        "id": "rAB1_iDsaDZm"
      },
      "source": [
        "!pip install kora -q\n",
        "from kora import console\n",
        "console.start()"
      ],
      "execution_count": null,
      "outputs": []
    }
  ]
}