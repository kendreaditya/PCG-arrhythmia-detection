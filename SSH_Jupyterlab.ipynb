{
  "nbformat": 4,
  "nbformat_minor": 0,
  "metadata": {
    "colab": {
      "name": "SSH-Jupyterlab",
      "provenance": [],
      "collapsed_sections": []
    },
    "kernelspec": {
      "name": "python3",
      "display_name": "Python 3"
    },
    "accelerator": "GPU"
  },
  "cells": [
    {
      "cell_type": "code",
      "metadata": {
        "id": "cvOngRVPi9ge",
        "colab": {
          "base_uri": "https://localhost:8080/"
        },
        "outputId": "dd55034a-e5c7-46dc-9881-2cd9ae2c5504"
      },
      "source": [
        "from google.colab import drive, output\n",
        "\n",
        "# Clone Git Repo\n",
        "!rm -rf \"/content/PCG-arrhythmia-detection\"\n",
        "!git clone -b colab https://github.com/kendreaditya/PCG-arrhythmia-detection.git --quiet\n",
        "!pip install torch==1.7.1+cu101 torchvision==0.8.2+cu101 torchaudio===0.7.2 -f https://download.pytorch.org/whl/torch_stable.html\n",
        "\n",
        "# Install Dependencies\n",
        "!cd /content/PCG-arrhythmia-detection && pip3 install -r requirements.txt\n",
        "!pip3 matplotlib==3.3.3\n",
        "!pip3 PyWavelets==1.1.1\n",
        "!pip3 wandb==0.10.17\n",
        "!pip3 torch==1.7.1\n",
        "!pip3 scipy==1.6.0\n",
        "!pip3 numpy==1.19.2\n",
        "!pip3 torchvision==0.8.2\n",
        "!pip3 pandas==1.2.1\n",
        "!pip3 pytorch_lightning==1.1.4\n",
        "!pip3 tqdm==4.51.0\n",
        "!pip3 scikit_learn==0.24.1\n",
        "output.clear()\n",
        "\n",
        "# Mount Google Drive\n",
        "from google.colab import drive\n",
        "drive.mount('/content/drive')\n",
        "\n",
        "!pip install kora -q\n",
        "from kora import console\n",
        "console.start()"
      ],
      "execution_count": 5,
      "outputs": [
        {
          "output_type": "stream",
          "text": [
            "Mounted at /content/drive\n"
          ],
          "name": "stdout"
        }
      ]
    }
  ]
}