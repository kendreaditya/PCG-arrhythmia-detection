{
  "nbformat": 4,
  "nbformat_minor": 0,
  "metadata": {
    "colab": {
      "name": "SSH-Jupyterlab",
      "provenance": [],
      "collapsed_sections": []
    },
    "kernelspec": {
      "name": "python3",
      "display_name": "Python 3"
    },
    "accelerator": "GPU"
  },
  "cells": [
    {
      "cell_type": "code",
      "metadata": {
        "id": "cvOngRVPi9ge",
        "outputId": "cb2a3f4a-8a4d-4c1a-8fd8-e35b969159c2",
        "colab": {
          "base_uri": "https://localhost:8080/"
        }
      },
      "source": [
        "from google.colab import drive, output\n",
        "\n",
        "# Clone Git Repo\n",
        "!rm -rf \"/content/PCG-arrhythmia-detection\"\n",
        "!git clone -b dev https://github.com/kendreaditya/PCG-arrhythmia-detection.git --quiet\n",
        "\n",
        "# Install Dependencies\n",
        "!cd /content/PCG-arrhythmia-detection && pip3 install -r requirements.txt\n",
        "output.clear()\n",
        "\n",
        "# Mount Google Drive\n",
        "from google.colab import drive\n",
        "drive.mount('/content/drive')\n",
        "\n",
        "# Jupyter Lab\n",
        "!pip3 install jupyterlab -q\n",
        "!nohup \n",
        "\n",
        "\n",
        "jupyter lab --no-browser --port=1010 --ip=0.0.0.0 --allow-root &\n",
        "\n",
        "# SSH Client\n",
        "!sudo apt-get install openssh-server && sudo service ssh start\n",
        "!cd ~/.ssh && ssh-keygen && cat id_rsa.pub >> authorized_keys && chmod 640 authorized_keys\n",
        "!sudo service ssh restart && ssh localhost\n",
        "!ssh -R 80:0.0.0.0:1010 localhost.run &"
      ],
      "execution_count": null,
      "outputs": [
        {
          "output_type": "stream",
          "text": [
            "Drive already mounted at /content/drive; to attempt to forcibly remount, call drive.mount(\"/content/drive\", force_remount=True).\n",
            "nohup: appending output to 'nohup.out'\n",
            "Reading package lists... Done\n",
            "Building dependency tree       \n",
            "Reading state information... Done\n",
            "openssh-server is already the newest version (1:7.6p1-4ubuntu0.3).\n",
            "0 upgraded, 0 newly installed, 0 to remove and 15 not upgraded.\n",
            " * Starting OpenBSD Secure Shell server sshd\n",
            "   ...done.\n",
            "Generating public/private rsa key pair.\n",
            "Enter file in which to save the key (/root/.ssh/id_rsa): \n",
            "/root/.ssh/id_rsa already exists.\n",
            "Overwrite (y/n)? \n",
            " * Restarting OpenBSD Secure Shell server sshd\n",
            "\n",
            "\n",
            "^C\n",
            "Pseudo-terminal will not be allocated because stdin is not a terminal.\n",
            "\n",
            "** your connection id is 3ec8f235-2e56-4ba0-a734-e8edcf3e3475, please mention it if you send me a message about an issue. **\n",
            "\n",
            "===============================================================================\n",
            "Welcome to localhost.run!\n",
            "\n",
            "Follow your favourite reverse tunnel at https://twitter.com/localhost_run .\n",
            "\n",
            "**You need a SSH key to access this service.**\n",
            "If you get a permission denied follow Github's most excellent howto:\n",
            "https://help.github.com/en/github/authenticating-to-github/generating-a-new-ssh-key-and-adding-it-to-the-ssh-agent\n",
            "\n",
            "To set up and manage custom domains go to https://admin.localhost.run/\n",
            "\n",
            "**New**\n",
            "You can use subdomains of your custom domains, up to 5 at the same time.\n",
            "Add a CNAME for your subdomain pointing to cd.localhost.run to enable it.\n",
            "Hint: CNAME at *.{yourdomain} means any subdomain is ready to use ;)\n",
            "\n",
            "===============================================================================\n",
            "\n",
            "root-69ff6e26.localhost.run tunneled with tls termination\n"
          ],
          "name": "stdout"
        }
      ]
    },
    {
      "cell_type": "code",
      "metadata": {
        "id": "uC-reSsF3-LM"
      },
      "source": [
        "#ngrok\r\n",
        "!pip install colab_ssh --upgrade -q\r\n",
        "from colab_ssh import launch_ssh\r\n",
        "from colab_ssh.get_tunnel_config import get_tunnel_config\r\n",
        "ngrokToken = None\r\n",
        "if ngrokToken is None:  \r\n",
        "  print(\"Got to: https://dashboard.ngrok.com/get-started/setup\")\r\n",
        "  ngrokToken = input(\"Enter authtoke from ngrok: \")\r\n",
        "launch_ssh(ngrokToken, \"password\")\r\n",
        "info = get_tunnel_config()\r\n",
        "print(f\"ssh -p {info['port']} -N -f -L localhost:1111:0.0.0.0:2275 root@{info['domain']}\")\r\n",
        "\r\n",
        "# localhost\r\n",
        "!sudo apt-get install openssh-server && sudo service ssh\r\n",
        " start\r\n",
        "!cd ~/.ssh && ssh-keygen && cat id_rsa.pub >> authorized_keys && chmod 640 authorized_keys\r\n",
        "!sudo service ssh restart && ssh localhost\r\n",
        "!ssh -R 80:0.0.0.0:1010 localhost.run &"
      ],
      "execution_count": null,
      "outputs": []
    }
  ]
}